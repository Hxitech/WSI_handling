{
 "cells": [
  {
   "cell_type": "code",
   "execution_count": 2,
   "metadata": {},
   "outputs": [],
   "source": [
    "import xml.etree.ElementTree as ET\n",
    "import numpy as np\n",
    "import cv2\n",
    "import openslide\n",
    "from PIL import Image, ImageDraw\n",
    "\n",
    "import matplotlib as mpl\n",
    "import matplotlib.pyplot as plt"
   ]
  },
  {
   "cell_type": "code",
   "execution_count": 33,
   "metadata": {},
   "outputs": [],
   "source": [
    "def get_points(xmlfile,color_map=None):\n",
    "    # create element tree object\n",
    "    tree = ET.parse(xmlfile)\n",
    "\n",
    "    # get root element\n",
    "    root = tree.getroot()        \n",
    "    \n",
    "    map_idx = []\n",
    "    points = []\n",
    "\n",
    "    for annotation in root.findall('Annotation'):        \n",
    "        line_color = int(annotation.get('LineColor'))        \n",
    "        mapped_idx = [item[1] for item in color_map if item[0] == line_color][0]        \n",
    "                \n",
    "        for regions in annotation.findall('Regions'):\n",
    "            for annCount, region in enumerate(regions.findall('Region')):                \n",
    "                #map_idx[annCount] = mapped_idx\n",
    "                map_idx.append(mapped_idx)\n",
    "                \n",
    "                for vertices in region.findall('Vertices'):\n",
    "                    points.append([None] * len(vertices.findall('Vertex')))                    \n",
    "                    for k, vertex in enumerate(vertices.findall('Vertex')):\n",
    "                        points[-1][k] = (int(float(vertex.get('X'))), int(float(vertex.get('Y'))))                                        \n",
    "\n",
    "    return points, map_idx\n",
    "\n",
    "def mask_out_annotation(xml_fname,img_fname=None,desired_mpp=None):\n",
    "\n",
    "    # first element is annotation LineColor property, second element is what to put in mask\n",
    "    # colors are: Yellow,1 Green,2 Blue,3 Red,4 Purple,5\n",
    "    color_map = [(65535,1),(65280,2),(16711680,3),(255,4),(16711808,4)]    \n",
    "    points, map_idx = get_points(xml_fname,color_map=color_map)\n",
    "\n",
    "    if img_fname is not None:\n",
    "        osh_img = openslide.OpenSlide(img_fname)\n",
    "        img_dim = osh_img.level_dimensions\n",
    "        img_mpp = round(float(osh_img.properties['openslide.mpp-x']),2)\n",
    "        resize_factor = img_mpp / desired_mpp                \n",
    "    else:\n",
    "        resize_factor = 1\n",
    "    \n",
    "    for k, pointSet in enumerate(points):\n",
    "        points[k] = [(int(p[0] * resize_factor), int(p[1] * resize_factor)) for p in pointSet]\n",
    "    \n",
    "    img = Image.new('L', (int(img_dim[0][0] * resize_factor), int(img_dim[0][1] * resize_factor)), 0)\n",
    "\n",
    "    for annCount, pointSet in enumerate(points):        \n",
    "        ImageDraw.Draw(img).polygon(pointSet, fill=map_idx[annCount])\n",
    "\n",
    "    mask = np.array(img)    \n",
    "\n",
    "    return mask, resize_factor\n",
    "\n",
    "def mask_out_region(xml_fname,img_fname,desired_mpp,coords=(0,0),wh=(256, 256)):\n",
    "    color_map = [(65535,1),(65280,2),(16711680,3),(255,4),(16711808,4)]    \n",
    "    points, map_idx = get_points(xml_fname,color_map=color_map)\n",
    "    polygon = np.array([[coords[0],coords[1]],[coords[0]+wh[0],coords[1]],[coords[0]+wh[0],coords[1]+wh[1]],[coords[0],coords[1]+wh[1]]])\n",
    "    \n",
    "    new_points = []\n",
    "    for k, point_set in enumerate(points):                \n",
    "        \n",
    "        if(all(mpl.path.Path(np.array(point_set)).contains_points(polygon))):\n",
    "            new_points.append(polygon)\n",
    "        \n",
    "            region_point_set = [point for index,point in enumerate(point_set) if point[0]>coords[0] and point[0]<(coords[0]+wh[0])\n",
    "                                   and point[1]>coords[1] and point[1]<(coords[1]+wh[1])]\n",
    "\n",
    "            #need_previous = [index for index,point in enumerate(point_set) if index-1 is not in region_point_set_idx]\n",
    "            #need_next = [index for index,point in enumerate(point_set) if index+1 is not in region_point_set_idx]\n",
    "\n",
    "            new_points.append(region_point_set)\n",
    " \n",
    "    img = Image.new('L', (wh[0], wh[1]), 0)\n",
    "    \n",
    "    for k, pointSet in enumerate(points):\n",
    "        points[k] = [(int(p[0] - coords[0]), int(p[1] - coords[1])) for p in pointSet]\n",
    "\n",
    "    for annCount, pointSet in enumerate(points):        \n",
    "        ImageDraw.Draw(img).polygon(pointSet, fill=map_idx[annCount])\n",
    "\n",
    "    mask = np.array(img)    \n",
    "    return mask\n",
    "#        region_point_set_bounded = []\n",
    "#        for idx in enumerate(region_point_set_idx):\n",
    "#            if(idx in need_previous):\n",
    "#                x_interp = np.interp(coords[0],np.sort([point_set[idx][0],point_set[idx-1][0]]))\n",
    "#                bound_point = "
   ]
  },
  {
   "cell_type": "code",
   "execution_count": 32,
   "metadata": {},
   "outputs": [
    {
     "name": "stdout",
     "output_type": "stream",
     "text": [
      "[[10846 25368]\n",
      " [11358 25368]\n",
      " [11358 25880]\n",
      " [10846 25880]]\n",
      "0\n",
      "[ True  True  True  True]\n",
      "1\n",
      "[ True  True  True  True]\n",
      "2\n",
      "[False False False False]\n",
      "3\n",
      "[False False False False]\n"
     ]
    }
   ],
   "source": [
    "coords=(10846,25368)\n",
    "wh=(512, 512)\n",
    "\n",
    "color_map = [(65535,1),(65280,2),(16711680,3),(255,4),(16711808,4)]    \n",
    "points, map_idx = get_points(xml_fname,color_map=color_map)\n",
    "polygon = np.array([[coords[0],coords[1]],[coords[0]+wh[0],coords[1]],[coords[0]+wh[0],coords[1]+wh[1]],[coords[0],coords[1]+wh[1]]])\n",
    "\n",
    "print(polygon)\n",
    "\n",
    "for k, point_set in enumerate(points):                \n",
    "\n",
    "    print(k)\n",
    "    print(mpl.path.Path(np.array(point_set)).contains_points(polygon))\n"
   ]
  },
  {
   "cell_type": "code",
   "execution_count": 31,
   "metadata": {},
   "outputs": [
    {
     "name": "stdout",
     "output_type": "stream",
     "text": [
      "[[10846 25368]\n",
      " [11358 25368]\n",
      " [11358 25880]\n",
      " [10846 25880]]\n",
      "[10846 25368]\n"
     ]
    },
    {
     "data": {
      "text/plain": [
       "False"
      ]
     },
     "execution_count": 31,
     "metadata": {},
     "output_type": "execute_result"
    }
   ],
   "source": [
    "print(polygon)\n",
    "print(polygon[0])\n",
    "mpl.path.Path(np.array(point_set)).contains_point(polygon[0])"
   ]
  },
  {
   "cell_type": "code",
   "execution_count": 42,
   "metadata": {},
   "outputs": [
    {
     "data": {
      "image/png": "[encoded data removed]",
      "text/plain": [
       "<Figure size 432x288 with 1 Axes>"
      ]
     },
     "metadata": {
      "needs_background": "light"
     },
     "output_type": "display_data"
    }
   ],
   "source": [
    "xml_fname=r'/mnt/data/home/pjl54/UPenn_prostate/20698.xml'\n",
    "img_fname=r'/mnt/data/home/pjl54/UPenn_prostate/20698.svs'\n",
    "desired_mpp = 1\n",
    "\n",
    "import time\n",
    "\n",
    "\n",
    "for k in range(0,9):\n",
    "    \n",
    "    x = np.random.randint(1000, high=17000, size=None, dtype='l')\n",
    "    y = np.random.randint(25000, high=26000, size=None, dtype='l')\n",
    "    start = time.time()\n",
    "    mask = mask_out_region(xml_fname,img_fname,desired_mpp,coords=(x,y),wh=(512, 512))\n",
    "    end = time.time()\n",
    "    #print(end - start)\n",
    "\n",
    "    plt.imshow(mask==1)\n",
    "\n",
    "for k in range(0,9):\n",
    "    x = np.random.randint(1000, high=17000, size=None, dtype='l')\n",
    "    y = np.random.randint(25000, high=26000, size=None, dtype='l')\n",
    "    start = time.time()\n",
    "    mask = mask_out_region(xml_fname,img_fname,desired_mpp,coords=(x,y),wh=(256, 256))\n",
    "    end = time.time()\n",
    "    #print(end - start)\n",
    "\n",
    "    plt.imshow(mask)\n",
    "#mask = mask_out_region(xml_fname,img_fname,desired_mpp,coords=(9634,25196),wh=(5000, 5000))\n",
    "\n",
    "#mask = maskOutAnnotation(xml_fname,img_fname=img_fname,desired_mpp=desired_mpp)\n",
    "\n"
   ]
  },
  {
   "cell_type": "code",
   "execution_count": null,
   "metadata": {},
   "outputs": [],
   "source": []
  },
  {
   "cell_type": "code",
   "execution_count": null,
   "metadata": {},
   "outputs": [],
   "source": [
    "coords=(x,y)\n",
    "wh=(512, 512)\n",
    "#polygon = np.array([[coords[0],coords[1]],[coords[0]+wh[0],coords[1]],[coords[0]+wh[0],coords[1]+wh[1]][coords[0],coords[1]+wh[1]]])\n",
    "print((coords[0],coords[1]))\n",
    "polygon = np.array([[coords[0],coords[1]],[coords[0]+wh[0],coords[1]],[coords[0]+wh[0],coords[1]+wh[1]],[coords[0],coords[1]+wh[1]]])\n",
    "\n",
    "\n",
    "print(polygon)"
   ]
  },
  {
   "cell_type": "code",
   "execution_count": null,
   "metadata": {},
   "outputs": [],
   "source": [
    "print(np.array([[1,2],[3,4]]))\n",
    "print(mpl.path.Path(np.array([[1,2],[3,4]])))"
   ]
  },
  {
   "cell_type": "code",
   "execution_count": null,
   "metadata": {},
   "outputs": [],
   "source": [
    "print(np.array([[coords[0],coords[1]],[coords[0]+wh[0],coords[1]],[coords[0]+wh[0],coords[1]+wh[1]],[coords[0],coords[1]+wh[1]]]))"
   ]
  },
  {
   "cell_type": "code",
   "execution_count": null,
   "metadata": {},
   "outputs": [],
   "source": []
  }
 ],
 "metadata": {
  "kernelspec": {
   "display_name": "Python 3",
   "language": "python",
   "name": "python3"
  },
  "language_info": {
   "codemirror_mode": {
    "name": "ipython",
    "version": 3
   },
   "file_extension": ".py",
   "mimetype": "text/x-python",
   "name": "python",
   "nbconvert_exporter": "python",
   "pygments_lexer": "ipython3",
   "version": "3.6.4"
  }
 },
 "nbformat": 4,
 "nbformat_minor": 2
}
